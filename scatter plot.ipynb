{
 "cells": [
  {
   "cell_type": "code",
   "execution_count": 36,
   "id": "9f67022b",
   "metadata": {},
   "outputs": [],
   "source": [
    "import numpy as np\n",
    "import plotly.offline as pyo"
   ]
  },
  {
   "cell_type": "code",
   "execution_count": 37,
   "id": "6e3485b5",
   "metadata": {},
   "outputs": [],
   "source": [
    "import plotly.graph_objs as go"
   ]
  },
  {
   "cell_type": "code",
   "execution_count": 38,
   "id": "f1ad09af",
   "metadata": {},
   "outputs": [],
   "source": [
    "np.random.seed(42)"
   ]
  },
  {
   "cell_type": "code",
   "execution_count": 39,
   "id": "bb307c70",
   "metadata": {},
   "outputs": [],
   "source": [
    "random_x = np.random.randint(1,101,100)\n",
    "random_y = np.random.randint(1,101,100)"
   ]
  },
  {
   "cell_type": "code",
   "execution_count": 72,
   "id": "c5017bf5",
   "metadata": {},
   "outputs": [],
   "source": [
    "data = [go.Scatter(x = random_x,\n",
    "                   y = random_y, \n",
    "                   mode = 'markers',\n",
    "                   marker = dict(\n",
    "                        size = 12,\n",
    "                        color = 'rgb(200,140,100)',\n",
    "                        symbol = \"hexagon\",\n",
    "                        line = {'width' : 1.5}\n",
    "                       \n",
    "                   ))]"
   ]
  },
  {
   "cell_type": "code",
   "execution_count": 73,
   "id": "fceeafdc",
   "metadata": {},
   "outputs": [],
   "source": [
    "layout = go.Layout(title = 'Hello 1st plot',title_x = 0.5,\n",
    "                  xaxis = {'title': \"My X - Axis\"},\n",
    "                  yaxis = dict(title = \"My Y - Axis\"),\n",
    "                  hovermode = \"closest\")"
   ]
  },
  {
   "cell_type": "markdown",
   "id": "ca4617e4",
   "metadata": {},
   "source": [
    "#hovermode is closest by default and 0.5 makes title at centre of x - axis"
   ]
  },
  {
   "cell_type": "code",
   "execution_count": 74,
   "id": "1b5bbf06",
   "metadata": {},
   "outputs": [],
   "source": [
    "fig = go.Figure(data = data, layout = layout)"
   ]
  },
  {
   "cell_type": "code",
   "execution_count": 75,
   "id": "ece38af0",
   "metadata": {},
   "outputs": [
    {
     "data": {
      "text/plain": [
       "'scatter.html'"
      ]
     },
     "execution_count": 75,
     "metadata": {},
     "output_type": "execute_result"
    }
   ],
   "source": [
    "pyo.plot(fig,filename= \"scatter.html\")"
   ]
  },
  {
   "cell_type": "code",
   "execution_count": null,
   "id": "fbc10419",
   "metadata": {},
   "outputs": [],
   "source": []
  },
  {
   "cell_type": "code",
   "execution_count": null,
   "id": "bc9513db",
   "metadata": {},
   "outputs": [],
   "source": []
  }
 ],
 "metadata": {
  "kernelspec": {
   "display_name": "Python 3 (ipykernel)",
   "language": "python",
   "name": "python3"
  },
  "language_info": {
   "codemirror_mode": {
    "name": "ipython",
    "version": 3
   },
   "file_extension": ".py",
   "mimetype": "text/x-python",
   "name": "python",
   "nbconvert_exporter": "python",
   "pygments_lexer": "ipython3",
   "version": "3.10.9"
  }
 },
 "nbformat": 4,
 "nbformat_minor": 5
}
