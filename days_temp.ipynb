{
 "cells": [
  {
   "cell_type": "code",
   "execution_count": 1,
   "id": "296fabef",
   "metadata": {},
   "outputs": [],
   "source": [
    "import plotly.offline as pyo\n",
    "import plotly.graph_objs as go\n",
    "import pandas"
   ]
  },
  {
   "cell_type": "code",
   "execution_count": 2,
   "id": "4a009255",
   "metadata": {},
   "outputs": [],
   "source": [
    "df = pandas.read_csv(\"data/2010YumaAz.csv\")\n",
    "'''df2 = df\n",
    "df2.index(\"\")'''"
   ]
  },
  {
   "cell_type": "code",
   "execution_count": 11,
   "id": "6dbaf3b0",
   "metadata": {},
   "outputs": [],
   "source": [
    "days = [\"TUESDAY\",\"WEDNESDAY\",\"THURSDAY\",\"FRIDAY\",\"SATURDAY\",\"SUNDAY\",\"MONDAY\"]\n",
    "data = []"
   ]
  },
  {
   "cell_type": "code",
   "execution_count": 12,
   "id": "e6a7f2a7",
   "metadata": {},
   "outputs": [],
   "source": [
    "for day in days:\n",
    "    data.append(go.Scatter(x = df[df[\"DAY\"] == day][\"LST_TIME\"],\n",
    "                           y = df[df[\"DAY\"] == day][\"T_HR_AVG\"],\n",
    "                           mode=\"lines + markers\",\n",
    "                           name = day))    "
   ]
  },
  {
   "cell_type": "code",
   "execution_count": 13,
   "id": "15f3b071",
   "metadata": {},
   "outputs": [],
   "source": [
    "layout = go.Layout(title=\"Temperatures on different days\",\n",
    "                   title_x = 0.5)"
   ]
  },
  {
   "cell_type": "code",
   "execution_count": 14,
   "id": "a0f37c64",
   "metadata": {},
   "outputs": [],
   "source": [
    "fig = go.Figure(data= data, layout = layout)"
   ]
  },
  {
   "cell_type": "code",
   "execution_count": 15,
   "id": "cc329771",
   "metadata": {},
   "outputs": [
    {
     "name": "stderr",
     "output_type": "stream",
     "text": [
      "c:\\Users\\Lenovo\\AppData\\Local\\Programs\\Python\\Python310\\lib\\site-packages\\plotly\\offline\\offline.py:562: UserWarning:\n",
      "\n",
      "Your filename `days_temperature_lineplot` didn't end with .html. Adding .html to the end of your file.\n",
      "\n"
     ]
    },
    {
     "data": {
      "text/plain": [
       "'days_temperature_lineplot.html'"
      ]
     },
     "execution_count": 15,
     "metadata": {},
     "output_type": "execute_result"
    }
   ],
   "source": [
    "pyo.plot(fig,filename = \"days_temperature_lineplot\")"
   ]
  },
  {
   "cell_type": "code",
   "execution_count": null,
   "id": "18be7642",
   "metadata": {},
   "outputs": [],
   "source": []
  }
 ],
 "metadata": {
  "kernelspec": {
   "display_name": "Python 3 (ipykernel)",
   "language": "python",
   "name": "python3"
  },
  "language_info": {
   "codemirror_mode": {
    "name": "ipython",
    "version": 3
   },
   "file_extension": ".py",
   "mimetype": "text/x-python",
   "name": "python",
   "nbconvert_exporter": "python",
   "pygments_lexer": "ipython3",
   "version": "3.10.11"
  }
 },
 "nbformat": 4,
 "nbformat_minor": 5
}
