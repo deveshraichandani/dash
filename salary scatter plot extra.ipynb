{
 "cells": [
  {
   "cell_type": "code",
   "execution_count": 9,
   "id": "9f67022b",
   "metadata": {},
   "outputs": [],
   "source": [
    "import numpy as np\n",
    "import plotly.offline as pyo"
   ]
  },
  {
   "cell_type": "code",
   "execution_count": 10,
   "id": "6e3485b5",
   "metadata": {},
   "outputs": [],
   "source": [
    "import plotly.graph_objs as go"
   ]
  },
  {
   "cell_type": "code",
   "execution_count": 11,
   "id": "f1ad09af",
   "metadata": {},
   "outputs": [],
   "source": [
    "np.random.seed(42)"
   ]
  },
  {
   "cell_type": "code",
   "execution_count": 12,
   "id": "bb307c70",
   "metadata": {},
   "outputs": [],
   "source": [
    "random_x = []\n",
    "random_y = []\n",
    "num = int(input(\"Enter number of people for which you want to enter details :\"))\n",
    "for i in range(1,num+1):\n",
    "    strg = str(i)\n",
    "    random_x.append(input(\"Enter your name\"+ strg + \": \"))\n",
    "    random_y.append(int(input(\"Enter salary : \")))"
   ]
  },
  {
   "cell_type": "code",
   "execution_count": 13,
   "id": "c5017bf5",
   "metadata": {},
   "outputs": [],
   "source": [
    "data = [go.Scatter(x = random_x,\n",
    "                   y = random_y, \n",
    "                   mode = 'markers',\n",
    "                   marker = dict(\n",
    "                        size = 12,\n",
    "                        color = 'rgb(200,140,100)',\n",
    "                        symbol = \"hexagon\",\n",
    "                        line = {'width' : 1.5}\n",
    "                       \n",
    "                   ))]"
   ]
  },
  {
   "cell_type": "code",
   "execution_count": 14,
   "id": "fceeafdc",
   "metadata": {},
   "outputs": [],
   "source": [
    "layout = go.Layout(title = 'Salaries Plot',title_x = 0.5,\n",
    "                  xaxis = {'title': \"Name\"},\n",
    "                  yaxis = dict(title = \"Salary\"),\n",
    "                  hovermode = \"closest\")"
   ]
  },
  {
   "cell_type": "markdown",
   "id": "ca4617e4",
   "metadata": {},
   "source": [
    "#hovermode is closest by default and 0.5 makes title at centre of x - axis"
   ]
  },
  {
   "cell_type": "code",
   "execution_count": 15,
   "id": "1b5bbf06",
   "metadata": {},
   "outputs": [],
   "source": [
    "fig = go.Figure(data = data, layout = layout)"
   ]
  },
  {
   "cell_type": "code",
   "execution_count": 16,
   "id": "ece38af0",
   "metadata": {},
   "outputs": [
    {
     "data": {
      "text/plain": [
       "'salary.html'"
      ]
     },
     "execution_count": 16,
     "metadata": {},
     "output_type": "execute_result"
    }
   ],
   "source": [
    "pyo.plot(fig,filename= \"salary.html\")"
   ]
  }
 ],
 "metadata": {
  "kernelspec": {
   "display_name": "Python 3 (ipykernel)",
   "language": "python",
   "name": "python3"
  },
  "language_info": {
   "codemirror_mode": {
    "name": "ipython",
    "version": 3
   },
   "file_extension": ".py",
   "mimetype": "text/x-python",
   "name": "python",
   "nbconvert_exporter": "python",
   "pygments_lexer": "ipython3",
   "version": "3.10.11"
  }
 },
 "nbformat": 4,
 "nbformat_minor": 5
}
