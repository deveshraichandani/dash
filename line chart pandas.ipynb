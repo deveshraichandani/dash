{
 "cells": [
  {
   "cell_type": "code",
   "execution_count": 1,
   "id": "f86424a6",
   "metadata": {},
   "outputs": [
    {
     "name": "stdout",
     "output_type": "stream",
     "text": [
      "   SUMLEV REGION DIVISION  STATE              NAME  CENSUS2010POP  \\\n",
      "0    10.0      0        0    0.0     United States    308745538.0   \n",
      "1    20.0      1        0    0.0  Northeast Region     55317240.0   \n",
      "2    20.0      2        0    0.0    Midwest Region     66927001.0   \n",
      "3    20.0      3        0    0.0      South Region    114555744.0   \n",
      "4    20.0      4        0    0.0       West Region     71945553.0   \n",
      "\n",
      "   ESTIMATESBASE2010  POPESTIMATE2010  POPESTIMATE2011  POPESTIMATE2012  ...  \\\n",
      "0        308758105.0      309338421.0      311644280.0      313993272.0  ...   \n",
      "1         55318350.0       55388349.0       55642659.0       55860261.0  ...   \n",
      "2         66929794.0       66973360.0       67141501.0       67318295.0  ...   \n",
      "3        114563024.0      114869241.0      116060993.0      117291728.0  ...   \n",
      "4         71946937.0       72107471.0       72799127.0       73522988.0  ...   \n",
      "\n",
      "   RDOMESTICMIG2015  RDOMESTICMIG2016  RDOMESTICMIG2017  RNETMIG2011  \\\n",
      "0          0.000000          0.000000          0.000000     2.720900   \n",
      "1         -6.103092         -6.619089         -5.559570     1.467950   \n",
      "2         -3.458531         -3.307295         -2.304640    -1.187519   \n",
      "3          3.788037          3.592695          2.900528     5.544289   \n",
      "4          1.613450          2.099001          1.475519     2.798796   \n",
      "\n",
      "   RNETMIG2012  RNETMIG2013  RNETMIG2014  RNETMIG2015  RNETMIG2016  \\\n",
      "0     2.920371     2.883643     3.173228     3.516743     3.513394   \n",
      "1     0.779137     0.605873    -0.082832    -0.903931    -1.307503   \n",
      "2    -1.010696    -0.120354    -0.752477    -1.323952    -1.160735   \n",
      "3     5.831747     5.362083     6.317310     7.336162     7.113818   \n",
      "4     3.521423     3.396627     4.163576     5.067452     5.488965   \n",
      "\n",
      "   RNETMIG2017  \n",
      "0     3.423941  \n",
      "1    -0.288930  \n",
      "2    -0.191323  \n",
      "3     6.304010  \n",
      "4     4.737979  \n",
      "\n",
      "[5 rows x 121 columns]\n"
     ]
    }
   ],
   "source": [
    "import pandas as pd\n",
    "import plotly.offline as pyo\n",
    "import plotly.graph_objs as go\n",
    "\n",
    "df = pd.read_csv('data/nst-est2017-alldata.csv')\n",
    "print(df.head())"
   ]
  },
  {
   "cell_type": "code",
   "execution_count": 8,
   "id": "e4214184",
   "metadata": {},
   "outputs": [
    {
     "name": "stdout",
     "output_type": "stream",
     "text": [
      "    SUMLEV REGION DIVISION  STATE           NAME  CENSUS2010POP  \\\n",
      "11    40.0      1        1    9.0    Connecticut      3574097.0   \n",
      "24    40.0      1        1   23.0          Maine      1328361.0   \n",
      "26    40.0      1        1   25.0  Massachusetts      6547629.0   \n",
      "34    40.0      1        1   33.0  New Hampshire      1316470.0   \n",
      "44    40.0      1        1   44.0   Rhode Island      1052567.0   \n",
      "50    40.0      1        1   50.0        Vermont       625741.0   \n",
      "\n",
      "    ESTIMATESBASE2010  POPESTIMATE2010  POPESTIMATE2011  POPESTIMATE2012  ...  \\\n",
      "11          3574114.0        3580171.0        3591927.0        3597705.0  ...   \n",
      "24          1328362.0        1327568.0        1327968.0        1328101.0  ...   \n",
      "26          6547808.0        6564943.0        6612178.0        6659627.0  ...   \n",
      "34          1316460.0        1316700.0        1318345.0        1320923.0  ...   \n",
      "44          1052945.0        1053169.0        1052154.0        1052761.0  ...   \n",
      "50           625741.0         625842.0         626210.0         625606.0  ...   \n",
      "\n",
      "    RDOMESTICMIG2015  RDOMESTICMIG2016  RDOMESTICMIG2017  RNETMIG2011  \\\n",
      "11         -8.376089         -8.106331         -6.206914     0.993851   \n",
      "24         -0.781424          1.807361          4.032798     0.685361   \n",
      "26         -3.270088         -4.423353         -3.374712     4.364383   \n",
      "34         -0.850002          1.333509          3.500622    -0.403029   \n",
      "44         -4.218510         -4.093718         -3.640649    -2.170688   \n",
      "50         -3.415672         -3.615938         -1.472321    -0.333852   \n",
      "\n",
      "    RNETMIG2012  RNETMIG2013  RNETMIG2014  RNETMIG2015  RNETMIG2016  \\\n",
      "11    -0.542726    -0.420268    -2.479362    -3.464252    -3.112421   \n",
      "24     0.178459     0.392308     1.301528     0.389959     3.000731   \n",
      "26     4.266338     5.211370     4.538697     3.276287     2.261905   \n",
      "34     0.632751     0.061281     3.793602     0.852258     3.037729   \n",
      "44    -0.991964    -1.139847     1.029624     0.368598     0.526146   \n",
      "50    -1.915617     0.131027    -1.313404    -1.932614    -2.115708   \n",
      "\n",
      "    RNETMIG2017  \n",
      "11    -1.257548  \n",
      "24     5.216532  \n",
      "26     3.246090  \n",
      "34     5.170643  \n",
      "44     0.891742  \n",
      "50     0.024058  \n",
      "\n",
      "[6 rows x 121 columns]\n"
     ]
    }
   ],
   "source": [
    "df2 = df[df[\"DIVISION\"] == \"1\"]\n",
    "print(df2)"
   ]
  },
  {
   "cell_type": "code",
   "execution_count": 9,
   "id": "ee7b5bca",
   "metadata": {},
   "outputs": [],
   "source": [
    "df2.set_index(\"NAME\", inplace= True)"
   ]
  },
  {
   "cell_type": "code",
   "execution_count": 11,
   "id": "39eda025",
   "metadata": {},
   "outputs": [],
   "source": [
    "list_of_pop_col = []\n",
    "for i in df2.columns:\n",
    "    if i.startswith(\"POP\"):\n",
    "        list_of_pop_col.append(i)"
   ]
  },
  {
   "cell_type": "code",
   "execution_count": 12,
   "id": "b804ff52",
   "metadata": {},
   "outputs": [
    {
     "data": {
      "text/plain": [
       "['POPESTIMATE2010',\n",
       " 'POPESTIMATE2011',\n",
       " 'POPESTIMATE2012',\n",
       " 'POPESTIMATE2013',\n",
       " 'POPESTIMATE2014',\n",
       " 'POPESTIMATE2015',\n",
       " 'POPESTIMATE2016',\n",
       " 'POPESTIMATE2017']"
      ]
     },
     "execution_count": 12,
     "metadata": {},
     "output_type": "execute_result"
    }
   ],
   "source": [
    "list_of_pop_col"
   ]
  },
  {
   "cell_type": "code",
   "execution_count": 13,
   "id": "34e68225",
   "metadata": {},
   "outputs": [],
   "source": [
    "df2 = df2[list_of_pop_col]"
   ]
  },
  {
   "cell_type": "code",
   "execution_count": 17,
   "id": "3a52f37a",
   "metadata": {
    "scrolled": false
   },
   "outputs": [
    {
     "data": {
      "text/html": [
       "<div>\n",
       "<style scoped>\n",
       "    .dataframe tbody tr th:only-of-type {\n",
       "        vertical-align: middle;\n",
       "    }\n",
       "\n",
       "    .dataframe tbody tr th {\n",
       "        vertical-align: top;\n",
       "    }\n",
       "\n",
       "    .dataframe thead th {\n",
       "        text-align: right;\n",
       "    }\n",
       "</style>\n",
       "<table border=\"1\" class=\"dataframe\">\n",
       "  <thead>\n",
       "    <tr style=\"text-align: right;\">\n",
       "      <th></th>\n",
       "      <th>POPESTIMATE2010</th>\n",
       "      <th>POPESTIMATE2011</th>\n",
       "      <th>POPESTIMATE2012</th>\n",
       "      <th>POPESTIMATE2013</th>\n",
       "      <th>POPESTIMATE2014</th>\n",
       "      <th>POPESTIMATE2015</th>\n",
       "      <th>POPESTIMATE2016</th>\n",
       "      <th>POPESTIMATE2017</th>\n",
       "    </tr>\n",
       "    <tr>\n",
       "      <th>NAME</th>\n",
       "      <th></th>\n",
       "      <th></th>\n",
       "      <th></th>\n",
       "      <th></th>\n",
       "      <th></th>\n",
       "      <th></th>\n",
       "      <th></th>\n",
       "      <th></th>\n",
       "    </tr>\n",
       "  </thead>\n",
       "  <tbody>\n",
       "    <tr>\n",
       "      <th>Connecticut</th>\n",
       "      <td>3580171.0</td>\n",
       "      <td>3591927.0</td>\n",
       "      <td>3597705.0</td>\n",
       "      <td>3602470.0</td>\n",
       "      <td>3600188.0</td>\n",
       "      <td>3593862.0</td>\n",
       "      <td>3587685.0</td>\n",
       "      <td>3588184.0</td>\n",
       "    </tr>\n",
       "    <tr>\n",
       "      <th>Maine</th>\n",
       "      <td>1327568.0</td>\n",
       "      <td>1327968.0</td>\n",
       "      <td>1328101.0</td>\n",
       "      <td>1327975.0</td>\n",
       "      <td>1328903.0</td>\n",
       "      <td>1327787.0</td>\n",
       "      <td>1330232.0</td>\n",
       "      <td>1335907.0</td>\n",
       "    </tr>\n",
       "    <tr>\n",
       "      <th>Massachusetts</th>\n",
       "      <td>6564943.0</td>\n",
       "      <td>6612178.0</td>\n",
       "      <td>6659627.0</td>\n",
       "      <td>6711138.0</td>\n",
       "      <td>6757925.0</td>\n",
       "      <td>6794002.0</td>\n",
       "      <td>6823721.0</td>\n",
       "      <td>6859819.0</td>\n",
       "    </tr>\n",
       "    <tr>\n",
       "      <th>New Hampshire</th>\n",
       "      <td>1316700.0</td>\n",
       "      <td>1318345.0</td>\n",
       "      <td>1320923.0</td>\n",
       "      <td>1322622.0</td>\n",
       "      <td>1328684.0</td>\n",
       "      <td>1330134.0</td>\n",
       "      <td>1335015.0</td>\n",
       "      <td>1342795.0</td>\n",
       "    </tr>\n",
       "    <tr>\n",
       "      <th>Rhode Island</th>\n",
       "      <td>1053169.0</td>\n",
       "      <td>1052154.0</td>\n",
       "      <td>1052761.0</td>\n",
       "      <td>1052784.0</td>\n",
       "      <td>1054782.0</td>\n",
       "      <td>1055916.0</td>\n",
       "      <td>1057566.0</td>\n",
       "      <td>1059639.0</td>\n",
       "    </tr>\n",
       "    <tr>\n",
       "      <th>Vermont</th>\n",
       "      <td>625842.0</td>\n",
       "      <td>626210.0</td>\n",
       "      <td>625606.0</td>\n",
       "      <td>626044.0</td>\n",
       "      <td>625665.0</td>\n",
       "      <td>624455.0</td>\n",
       "      <td>623354.0</td>\n",
       "      <td>623657.0</td>\n",
       "    </tr>\n",
       "  </tbody>\n",
       "</table>\n",
       "</div>"
      ],
      "text/plain": [
       "               POPESTIMATE2010  POPESTIMATE2011  POPESTIMATE2012  \\\n",
       "NAME                                                               \n",
       "Connecticut          3580171.0        3591927.0        3597705.0   \n",
       "Maine                1327568.0        1327968.0        1328101.0   \n",
       "Massachusetts        6564943.0        6612178.0        6659627.0   \n",
       "New Hampshire        1316700.0        1318345.0        1320923.0   \n",
       "Rhode Island         1053169.0        1052154.0        1052761.0   \n",
       "Vermont               625842.0         626210.0         625606.0   \n",
       "\n",
       "               POPESTIMATE2013  POPESTIMATE2014  POPESTIMATE2015  \\\n",
       "NAME                                                               \n",
       "Connecticut          3602470.0        3600188.0        3593862.0   \n",
       "Maine                1327975.0        1328903.0        1327787.0   \n",
       "Massachusetts        6711138.0        6757925.0        6794002.0   \n",
       "New Hampshire        1322622.0        1328684.0        1330134.0   \n",
       "Rhode Island         1052784.0        1054782.0        1055916.0   \n",
       "Vermont               626044.0         625665.0         624455.0   \n",
       "\n",
       "               POPESTIMATE2016  POPESTIMATE2017  \n",
       "NAME                                             \n",
       "Connecticut          3587685.0        3588184.0  \n",
       "Maine                1330232.0        1335907.0  \n",
       "Massachusetts        6823721.0        6859819.0  \n",
       "New Hampshire        1335015.0        1342795.0  \n",
       "Rhode Island         1057566.0        1059639.0  \n",
       "Vermont               623354.0         623657.0  "
      ]
     },
     "execution_count": 17,
     "metadata": {},
     "output_type": "execute_result"
    }
   ],
   "source": [
    "df2"
   ]
  },
  {
   "cell_type": "code",
   "execution_count": 56,
   "id": "abc6b18a",
   "metadata": {},
   "outputs": [
    {
     "name": "stdout",
     "output_type": "stream",
     "text": [
      "Index(['POPESTIMATE2010', 'POPESTIMATE2011', 'POPESTIMATE2012',\n",
      "       'POPESTIMATE2013', 'POPESTIMATE2014', 'POPESTIMATE2015',\n",
      "       'POPESTIMATE2016', 'POPESTIMATE2017'],\n",
      "      dtype='object')\n"
     ]
    }
   ],
   "source": [
    "print(df2.columns)"
   ]
  },
  {
   "cell_type": "code",
   "execution_count": 63,
   "id": "7cb1e519",
   "metadata": {},
   "outputs": [
    {
     "name": "stdout",
     "output_type": "stream",
     "text": [
      "POPESTIMATE2010    3580171.0\n",
      "POPESTIMATE2011    3591927.0\n",
      "POPESTIMATE2012    3597705.0\n",
      "POPESTIMATE2013    3602470.0\n",
      "POPESTIMATE2014    3600188.0\n",
      "POPESTIMATE2015    3593862.0\n",
      "POPESTIMATE2016    3587685.0\n",
      "POPESTIMATE2017    3588184.0\n",
      "Name: Connecticut, dtype: float64\n"
     ]
    }
   ],
   "source": [
    "print(df2.loc[\"Connecticut\"])"
   ]
  },
  {
   "cell_type": "code",
   "execution_count": 52,
   "id": "c575a9d4",
   "metadata": {},
   "outputs": [],
   "source": [
    "data = [go.Scatter(x= df2.columns, y = df2.loc[Name], mode=\"lines\", name = Name) for Name in df2.index]\n",
    "layout = go.Layout(title = \"US Census\", title_x = 0.5)"
   ]
  },
  {
   "cell_type": "code",
   "execution_count": 53,
   "id": "a23f58ef",
   "metadata": {},
   "outputs": [],
   "source": [
    "fig = go.Figure(data = data , layout= layout)"
   ]
  },
  {
   "cell_type": "code",
   "execution_count": 55,
   "id": "2702d2d6",
   "metadata": {},
   "outputs": [
    {
     "data": {
      "text/plain": [
       "'census us.html'"
      ]
     },
     "execution_count": 55,
     "metadata": {},
     "output_type": "execute_result"
    }
   ],
   "source": [
    "pyo.plot(fig,filename=\"census us.html\")"
   ]
  },
  {
   "cell_type": "code",
   "execution_count": null,
   "id": "f4bbbf47",
   "metadata": {},
   "outputs": [],
   "source": []
  }
 ],
 "metadata": {
  "kernelspec": {
   "display_name": "Python 3 (ipykernel)",
   "language": "python",
   "name": "python3"
  },
  "language_info": {
   "codemirror_mode": {
    "name": "ipython",
    "version": 3
   },
   "file_extension": ".py",
   "mimetype": "text/x-python",
   "name": "python",
   "nbconvert_exporter": "python",
   "pygments_lexer": "ipython3",
   "version": "3.10.11"
  }
 },
 "nbformat": 4,
 "nbformat_minor": 5
}
