{
 "cells": [
  {
   "cell_type": "code",
   "execution_count": 2,
   "metadata": {},
   "outputs": [],
   "source": [
    "import plotly.offline as pyo\n",
    "import plotly.graph_objs as go\n",
    "import pandas as pd"
   ]
  },
  {
   "cell_type": "code",
   "execution_count": 3,
   "metadata": {},
   "outputs": [],
   "source": [
    "df = pd.read_csv(\"data/flights.csv\")"
   ]
  },
  {
   "cell_type": "code",
   "execution_count": 10,
   "metadata": {},
   "outputs": [],
   "source": [
    "data = [go.Heatmap(x = df[\"year\"], y = df[\"month\"], z = df[\"passengers\"].values.tolist(),\n",
    "                   colorbar=dict(title = \"No. of People in Thousands\"))]\n",
    "layout = go.Layout(title=\"Passenger Count Analysis\",title_x = 0.5,\n",
    "                   xaxis=dict(title = \"Year ->\"),\n",
    "                   yaxis=dict(title = \"Month ->\"))\n",
    "fig = go.Figure(data=data,layout=layout)"
   ]
  },
  {
   "cell_type": "code",
   "execution_count": 11,
   "metadata": {},
   "outputs": [
    {
     "data": {
      "text/plain": [
       "'HeatmapExercise.html'"
      ]
     },
     "execution_count": 11,
     "metadata": {},
     "output_type": "execute_result"
    }
   ],
   "source": [
    "pyo.plot(fig,filename=\"HeatmapExercise.html\")"
   ]
  },
  {
   "cell_type": "code",
   "execution_count": 1,
   "metadata": {},
   "outputs": [
    {
     "name": "stdout",
     "output_type": "stream",
     "text": [
      "Collecting dash\n",
      "  Downloading dash-2.11.1-py3-none-any.whl (10.4 MB)\n",
      "     ---------------------------------------- 0.0/10.4 MB ? eta -:--:--\n",
      "      --------------------------------------- 0.2/10.4 MB 7.4 MB/s eta 0:00:02\n",
      "     -- ------------------------------------- 0.6/10.4 MB 8.1 MB/s eta 0:00:02\n",
      "     --- ------------------------------------ 0.9/10.4 MB 7.5 MB/s eta 0:00:02\n",
      "     ---- ----------------------------------- 1.2/10.4 MB 7.1 MB/s eta 0:00:02\n",
      "     ------ --------------------------------- 1.6/10.4 MB 7.5 MB/s eta 0:00:02\n",
      "     ------- -------------------------------- 2.1/10.4 MB 7.7 MB/s eta 0:00:02\n",
      "     --------- ------------------------------ 2.4/10.4 MB 7.3 MB/s eta 0:00:02\n",
      "     ---------- ----------------------------- 2.8/10.4 MB 7.8 MB/s eta 0:00:01\n",
      "     ------------ --------------------------- 3.2/10.4 MB 7.8 MB/s eta 0:00:01\n",
      "     ------------- -------------------------- 3.6/10.4 MB 7.8 MB/s eta 0:00:01\n",
      "     --------------- ------------------------ 4.1/10.4 MB 7.9 MB/s eta 0:00:01\n",
      "     ----------------- ---------------------- 4.5/10.4 MB 8.2 MB/s eta 0:00:01\n",
      "     ------------------ --------------------- 4.8/10.4 MB 8.1 MB/s eta 0:00:01\n",
      "     -------------------- ------------------- 5.2/10.4 MB 8.1 MB/s eta 0:00:01\n",
      "     --------------------- ------------------ 5.6/10.4 MB 8.1 MB/s eta 0:00:01\n",
      "     ----------------------- ---------------- 6.0/10.4 MB 8.1 MB/s eta 0:00:01\n",
      "     ------------------------ --------------- 6.4/10.4 MB 8.2 MB/s eta 0:00:01\n",
      "     -------------------------- ------------- 6.8/10.4 MB 8.2 MB/s eta 0:00:01\n",
      "     --------------------------- ------------ 7.2/10.4 MB 8.3 MB/s eta 0:00:01\n",
      "     ----------------------------- ---------- 7.6/10.4 MB 8.3 MB/s eta 0:00:01\n",
      "     ------------------------------- -------- 8.1/10.4 MB 8.2 MB/s eta 0:00:01\n",
      "     -------------------------------- ------- 8.5/10.4 MB 8.2 MB/s eta 0:00:01\n",
      "     --------------------------------- ------ 8.8/10.4 MB 8.2 MB/s eta 0:00:01\n",
      "     ----------------------------------- ---- 9.2/10.4 MB 8.1 MB/s eta 0:00:01\n",
      "     ------------------------------------ --- 9.5/10.4 MB 8.1 MB/s eta 0:00:01\n",
      "     -------------------------------------- - 10.0/10.4 MB 8.2 MB/s eta 0:00:01\n",
      "     ---------------------------------------  10.4/10.4 MB 8.3 MB/s eta 0:00:01\n",
      "     ---------------------------------------  10.4/10.4 MB 8.3 MB/s eta 0:00:01\n",
      "     ---------------------------------------- 10.4/10.4 MB 7.8 MB/s eta 0:00:00\n",
      "Collecting Werkzeug<2.3.0\n",
      "  Downloading Werkzeug-2.2.3-py3-none-any.whl (233 kB)\n",
      "     ---------------------------------------- 0.0/233.6 kB ? eta -:--:--\n",
      "     -------------------------------------- 233.6/233.6 kB 7.2 MB/s eta 0:00:00\n",
      "Collecting retrying\n",
      "  Downloading retrying-1.3.4-py3-none-any.whl (11 kB)\n",
      "Requirement already satisfied: plotly>=5.0.0 in c:\\users\\lenovo\\appdata\\local\\programs\\python\\python310\\lib\\site-packages (from dash) (5.15.0)\n",
      "Collecting dash-html-components==2.0.0\n",
      "  Downloading dash_html_components-2.0.0-py3-none-any.whl (4.1 kB)\n",
      "Collecting typing-extensions>=4.1.1\n",
      "  Downloading typing_extensions-4.7.1-py3-none-any.whl (33 kB)\n",
      "Requirement already satisfied: nest-asyncio in c:\\users\\lenovo\\appdata\\roaming\\python\\python310\\site-packages (from dash) (1.5.6)\n",
      "Collecting dash-table==5.0.0\n",
      "  Downloading dash_table-5.0.0-py3-none-any.whl (3.9 kB)\n",
      "Collecting requests\n",
      "  Downloading requests-2.31.0-py3-none-any.whl (62 kB)\n",
      "     ---------------------------------------- 0.0/62.6 kB ? eta -:--:--\n",
      "     ---------------------------------------- 62.6/62.6 kB 1.1 MB/s eta 0:00:00\n",
      "Collecting Flask<2.3.0,>=1.0.4\n",
      "  Downloading Flask-2.2.5-py3-none-any.whl (101 kB)\n",
      "     ---------------------------------------- 0.0/101.8 kB ? eta -:--:--\n",
      "     ---------------------------------------- 101.8/101.8 kB ? eta 0:00:00\n",
      "Collecting dash-core-components==2.0.0\n",
      "  Downloading dash_core_components-2.0.0-py3-none-any.whl (3.8 kB)\n",
      "Collecting ansi2html\n",
      "  Downloading ansi2html-1.8.0-py3-none-any.whl (16 kB)\n",
      "Collecting click>=8.0\n",
      "  Downloading click-8.1.6-py3-none-any.whl (97 kB)\n",
      "     ---------------------------------------- 0.0/97.9 kB ? eta -:--:--\n",
      "     ---------------------------------------- 97.9/97.9 kB 5.5 MB/s eta 0:00:00\n",
      "Collecting Jinja2>=3.0\n",
      "  Downloading Jinja2-3.1.2-py3-none-any.whl (133 kB)\n",
      "     ---------------------------------------- 0.0/133.1 kB ? eta -:--:--\n",
      "     -------------------------------------- 133.1/133.1 kB 8.2 MB/s eta 0:00:00\n",
      "Collecting itsdangerous>=2.0\n",
      "  Downloading itsdangerous-2.1.2-py3-none-any.whl (15 kB)\n",
      "Requirement already satisfied: packaging in c:\\users\\lenovo\\appdata\\roaming\\python\\python310\\site-packages (from plotly>=5.0.0->dash) (23.1)\n",
      "Requirement already satisfied: tenacity>=6.2.0 in c:\\users\\lenovo\\appdata\\local\\programs\\python\\python310\\lib\\site-packages (from plotly>=5.0.0->dash) (8.2.2)\n",
      "Collecting MarkupSafe>=2.1.1\n",
      "  Downloading MarkupSafe-2.1.3-cp310-cp310-win_amd64.whl (17 kB)\n",
      "Collecting idna<4,>=2.5\n",
      "  Downloading idna-3.4-py3-none-any.whl (61 kB)\n",
      "     ---------------------------------------- 0.0/61.5 kB ? eta -:--:--\n",
      "     ---------------------------------------- 61.5/61.5 kB 3.4 MB/s eta 0:00:00\n",
      "Collecting charset-normalizer<4,>=2\n",
      "  Downloading charset_normalizer-3.2.0-cp310-cp310-win_amd64.whl (96 kB)\n",
      "     ---------------------------------------- 0.0/96.9 kB ? eta -:--:--\n",
      "     ---------------------------------------- 96.9/96.9 kB ? eta 0:00:00\n",
      "Collecting urllib3<3,>=1.21.1\n",
      "  Downloading urllib3-2.0.4-py3-none-any.whl (123 kB)\n",
      "     ---------------------------------------- 0.0/123.9 kB ? eta -:--:--\n",
      "     -------------------------------------- 123.9/123.9 kB 7.6 MB/s eta 0:00:00\n",
      "Collecting certifi>=2017.4.17\n",
      "  Downloading certifi-2023.7.22-py3-none-any.whl (158 kB)\n",
      "     ---------------------------------------- 0.0/158.3 kB ? eta -:--:--\n",
      "     ------------------------------------ - 153.6/158.3 kB 4.6 MB/s eta 0:00:01\n",
      "     -------------------------------------- 158.3/158.3 kB 3.2 MB/s eta 0:00:00\n",
      "Requirement already satisfied: six>=1.7.0 in c:\\users\\lenovo\\appdata\\roaming\\python\\python310\\site-packages (from retrying->dash) (1.16.0)\n",
      "Requirement already satisfied: colorama in c:\\users\\lenovo\\appdata\\roaming\\python\\python310\\site-packages (from click>=8.0->Flask<2.3.0,>=1.0.4->dash) (0.4.6)\n",
      "Installing collected packages: dash-table, dash-html-components, dash-core-components, urllib3, typing-extensions, retrying, MarkupSafe, itsdangerous, idna, click, charset-normalizer, certifi, ansi2html, Werkzeug, requests, Jinja2, Flask, dash\n",
      "Successfully installed Flask-2.2.5 Jinja2-3.1.2 MarkupSafe-2.1.3 Werkzeug-2.2.3 ansi2html-1.8.0 certifi-2023.7.22 charset-normalizer-3.2.0 click-8.1.6 dash-2.11.1 dash-core-components-2.0.0 dash-html-components-2.0.0 dash-table-5.0.0 idna-3.4 itsdangerous-2.1.2 requests-2.31.0 retrying-1.3.4 typing-extensions-4.7.1 urllib3-2.0.4\n",
      "Note: you may need to restart the kernel to use updated packages.\n"
     ]
    },
    {
     "name": "stderr",
     "output_type": "stream",
     "text": [
      "  WARNING: The script normalizer.exe is installed in 'c:\\Users\\Lenovo\\AppData\\Local\\Programs\\Python\\Python310\\Scripts' which is not on PATH.\n",
      "  Consider adding this directory to PATH or, if you prefer to suppress this warning, use --no-warn-script-location.\n",
      "  WARNING: The script ansi2html.exe is installed in 'c:\\Users\\Lenovo\\AppData\\Local\\Programs\\Python\\Python310\\Scripts' which is not on PATH.\n",
      "  Consider adding this directory to PATH or, if you prefer to suppress this warning, use --no-warn-script-location.\n",
      "  WARNING: The script flask.exe is installed in 'c:\\Users\\Lenovo\\AppData\\Local\\Programs\\Python\\Python310\\Scripts' which is not on PATH.\n",
      "  Consider adding this directory to PATH or, if you prefer to suppress this warning, use --no-warn-script-location.\n",
      "  WARNING: The scripts dash-generate-components.exe, dash-update-components.exe and renderer.exe are installed in 'c:\\Users\\Lenovo\\AppData\\Local\\Programs\\Python\\Python310\\Scripts' which is not on PATH.\n",
      "  Consider adding this directory to PATH or, if you prefer to suppress this warning, use --no-warn-script-location.\n",
      "\n",
      "[notice] A new release of pip is available: 23.0.1 -> 23.2.1\n",
      "[notice] To update, run: python.exe -m pip install --upgrade pip\n"
     ]
    }
   ],
   "source": [
    "pip install dash"
   ]
  },
  {
   "cell_type": "code",
   "execution_count": null,
   "metadata": {},
   "outputs": [],
   "source": []
  }
 ],
 "metadata": {
  "kernelspec": {
   "display_name": "Python 3",
   "language": "python",
   "name": "python3"
  },
  "language_info": {
   "codemirror_mode": {
    "name": "ipython",
    "version": 3
   },
   "file_extension": ".py",
   "mimetype": "text/x-python",
   "name": "python",
   "nbconvert_exporter": "python",
   "pygments_lexer": "ipython3",
   "version": "3.10.11"
  },
  "orig_nbformat": 4
 },
 "nbformat": 4,
 "nbformat_minor": 2
}
