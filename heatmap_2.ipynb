{
 "cells": [
  {
   "cell_type": "code",
   "execution_count": 14,
   "metadata": {},
   "outputs": [],
   "source": [
    "import plotly.offline as pyo\n",
    "import plotly.graph_objs as go\n",
    "import pandas as pd\n",
    "from plotly import tools"
   ]
  },
  {
   "cell_type": "code",
   "execution_count": 15,
   "metadata": {},
   "outputs": [],
   "source": [
    "df1 = pd.read_csv(\"data/2010SantaBarbaraCA.csv\")\n",
    "df2 = pd.read_csv(\"data/2010SitkaAK.csv\")\n",
    "df3 = pd.read_csv(\"data/2010YumaAZ.csv\")"
   ]
  },
  {
   "cell_type": "code",
   "execution_count": 61,
   "metadata": {},
   "outputs": [],
   "source": [
    "trace1 = go.Heatmap(x = df1[\"DAY\"],\n",
    "                     y = df1[\"LST_TIME\"],\n",
    "                     z = df1[\"T_HR_AVG\"],\n",
    "                     colorscale=\"jet\",\n",
    "                     zmin=5,zmax=50,\n",
    "                     colorbar=dict(title='Temperatures'))\n",
    "\n",
    "trace2 = go.Heatmap(x = df2[\"DAY\"],\n",
    "                     y = df2[\"LST_TIME\"],\n",
    "                     z = df2[\"T_HR_AVG\"],\n",
    "                     colorscale=\"jet\",\n",
    "                     zmin=5,zmax=50,\n",
    "                     colorbar=dict(title='Temperatures'))\n",
    "\n",
    "trace3 = go.Heatmap(x = df3[\"DAY\"],\n",
    "                     y = df3[\"LST_TIME\"],\n",
    "                     z = df3[\"T_HR_AVG\"],\n",
    "                     colorscale=\"jet\",\n",
    "                     zmin=5,zmax=50,\n",
    "                     colorbar=dict(title='Temperatures'))"
   ]
  },
  {
   "cell_type": "code",
   "execution_count": 62,
   "metadata": {},
   "outputs": [],
   "source": [
    "fig = tools.make_subplots(rows=1,cols=3,subplot_titles = [\"Santa Barbara\",\"Sitka AK\", \"Yuma_AZ\"],\n",
    "                                 shared_yaxes=False,\n",
    "                                 shared_xaxes=True)"
   ]
  },
  {
   "cell_type": "code",
   "execution_count": 63,
   "metadata": {},
   "outputs": [
    {
     "data": {
      "text/plain": [
       "Layout({\n",
       "    'annotations': [{'font': {'size': 16},\n",
       "                     'showarrow': False,\n",
       "                     'text': 'Santa Barbara',\n",
       "                     'x': 0.14444444444444446,\n",
       "                     'xanchor': 'center',\n",
       "                     'xref': 'paper',\n",
       "                     'y': 1.0,\n",
       "                     'yanchor': 'bottom',\n",
       "                     'yref': 'paper'},\n",
       "                    {'font': {'size': 16},\n",
       "                     'showarrow': False,\n",
       "                     'text': 'Sitka AK',\n",
       "                     'x': 0.5,\n",
       "                     'xanchor': 'center',\n",
       "                     'xref': 'paper',\n",
       "                     'y': 1.0,\n",
       "                     'yanchor': 'bottom',\n",
       "                     'yref': 'paper'},\n",
       "                    {'font': {'size': 16},\n",
       "                     'showarrow': False,\n",
       "                     'text': 'Yuma_AZ',\n",
       "                     'x': 0.8555555555555556,\n",
       "                     'xanchor': 'center',\n",
       "                     'xref': 'paper',\n",
       "                     'y': 1.0,\n",
       "                     'yanchor': 'bottom',\n",
       "                     'yref': 'paper'}],\n",
       "    'template': '...',\n",
       "    'title': {'text': 'Temperatures for 3 Cities', 'x': 0.5},\n",
       "    'xaxis': {'anchor': 'y', 'domain': [0.0, 0.2888888888888889]},\n",
       "    'xaxis2': {'anchor': 'y2', 'domain': [0.35555555555555557, 0.6444444444444445]},\n",
       "    'xaxis3': {'anchor': 'y3', 'domain': [0.7111111111111111, 1.0]},\n",
       "    'yaxis': {'anchor': 'x', 'domain': [0.0, 1.0]},\n",
       "    'yaxis2': {'anchor': 'x2', 'domain': [0.0, 1.0]},\n",
       "    'yaxis3': {'anchor': 'x3', 'domain': [0.0, 1.0]}\n",
       "})"
      ]
     },
     "execution_count": 63,
     "metadata": {},
     "output_type": "execute_result"
    }
   ],
   "source": [
    "fig.append_trace(trace1,1,1)\n",
    "fig.append_trace(trace2,1,2)\n",
    "fig.append_trace(trace3,1,3)\n",
    "fig[\"layout\"].update(title = \"Temperatures for 3 Cities\",title_x = 0.5,)"
   ]
  },
  {
   "cell_type": "code",
   "execution_count": 64,
   "metadata": {},
   "outputs": [
    {
     "data": {
      "text/plain": [
       "'HeatMap_2.html'"
      ]
     },
     "execution_count": 64,
     "metadata": {},
     "output_type": "execute_result"
    }
   ],
   "source": [
    "pyo.plot(fig,filename=\"HeatMap_2.html\")"
   ]
  }
 ],
 "metadata": {
  "kernelspec": {
   "display_name": "Python 3",
   "language": "python",
   "name": "python3"
  },
  "language_info": {
   "codemirror_mode": {
    "name": "ipython",
    "version": 3
   },
   "file_extension": ".py",
   "mimetype": "text/x-python",
   "name": "python",
   "nbconvert_exporter": "python",
   "pygments_lexer": "ipython3",
   "version": "3.10.11"
  },
  "orig_nbformat": 4
 },
 "nbformat": 4,
 "nbformat_minor": 2
}
